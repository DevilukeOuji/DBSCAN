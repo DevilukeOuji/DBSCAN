{
 "cells": [
  {
   "cell_type": "code",
   "execution_count": 34,
   "metadata": {},
   "outputs": [],
   "source": [
    "import pandas as pd\n",
    "from math import sin, cos, sqrt, atan2\n"
   ]
  },
  {
   "cell_type": "code",
   "execution_count": 35,
   "metadata": {},
   "outputs": [],
   "source": [
    "data = pd.read_excel('bairros.xlsx')"
   ]
  },
  {
   "cell_type": "code",
   "execution_count": 36,
   "metadata": {},
   "outputs": [],
   "source": [
    "data.insert(0,'label', '0')\n"
   ]
  },
  {
   "cell_type": "code",
   "execution_count": 37,
   "metadata": {},
   "outputs": [],
   "source": [
    "for i in range(0,data.shape[0]):\n",
    "    data.at[i, 'label'] = data.at[i, 'label'].replace('0',str(i))"
   ]
  },
  {
   "cell_type": "code",
   "execution_count": 38,
   "metadata": {},
   "outputs": [
    {
     "data": {
      "text/plain": [
       "'0'"
      ]
     },
     "execution_count": 38,
     "metadata": {},
     "output_type": "execute_result"
    }
   ],
   "source": [
    "data.at[0, 'label']"
   ]
  },
  {
   "cell_type": "code",
   "execution_count": 39,
   "metadata": {},
   "outputs": [
    {
     "data": {
      "text/html": [
       "<div>\n",
       "<style scoped>\n",
       "    .dataframe tbody tr th:only-of-type {\n",
       "        vertical-align: middle;\n",
       "    }\n",
       "\n",
       "    .dataframe tbody tr th {\n",
       "        vertical-align: top;\n",
       "    }\n",
       "\n",
       "    .dataframe thead th {\n",
       "        text-align: right;\n",
       "    }\n",
       "</style>\n",
       "<table border=\"1\" class=\"dataframe\">\n",
       "  <thead>\n",
       "    <tr style=\"text-align: right;\">\n",
       "      <th></th>\n",
       "      <th>label</th>\n",
       "      <th>Bairro</th>\n",
       "      <th>Latitude</th>\n",
       "      <th>Longitude</th>\n",
       "    </tr>\n",
       "  </thead>\n",
       "  <tbody>\n",
       "    <tr>\n",
       "      <th>0</th>\n",
       "      <td>0</td>\n",
       "      <td>Batista Campos</td>\n",
       "      <td>-1460744</td>\n",
       "      <td>-48490488</td>\n",
       "    </tr>\n",
       "    <tr>\n",
       "      <th>1</th>\n",
       "      <td>1</td>\n",
       "      <td>Cidade Velha</td>\n",
       "      <td>-1461183</td>\n",
       "      <td>-48504647</td>\n",
       "    </tr>\n",
       "    <tr>\n",
       "      <th>2</th>\n",
       "      <td>2</td>\n",
       "      <td>Jurunas</td>\n",
       "      <td>-1470104</td>\n",
       "      <td>-48495129</td>\n",
       "    </tr>\n",
       "    <tr>\n",
       "      <th>3</th>\n",
       "      <td>3</td>\n",
       "      <td>Campina</td>\n",
       "      <td>-1452948</td>\n",
       "      <td>-48499645</td>\n",
       "    </tr>\n",
       "    <tr>\n",
       "      <th>4</th>\n",
       "      <td>4</td>\n",
       "      <td>Reduto</td>\n",
       "      <td>-1447956</td>\n",
       "      <td>-48492640</td>\n",
       "    </tr>\n",
       "  </tbody>\n",
       "</table>\n",
       "</div>"
      ],
      "text/plain": [
       "  label          Bairro  Latitude   Longitude\n",
       "0     0  Batista Campos  -1460744   -48490488\n",
       "1     1    Cidade Velha  -1461183   -48504647\n",
       "2     2         Jurunas  -1470104   -48495129\n",
       "3     3         Campina  -1452948   -48499645\n",
       "4     4          Reduto  -1447956   -48492640"
      ]
     },
     "execution_count": 39,
     "metadata": {},
     "output_type": "execute_result"
    }
   ],
   "source": [
    "\n",
    "data"
   ]
  },
  {
   "cell_type": "code",
   "execution_count": 23,
   "metadata": {},
   "outputs": [],
   "source": [
    "def distFunc(lat1, lat2, lon1, lon2):\n",
    "    R = 6373.0\n",
    "    dlon = int(lon2) - int(lon1)\n",
    "    dlat = int(lat2) - int(lat1)\n",
    "    a = (sin(dlat/2))**2 + cos(lat1) * cos(lat2) * (sin(dlon/2))**2\n",
    "    c = 2 * atan2(sqrt(a), sqrt(1-a))\n",
    "    distance = R * c\n",
    "    return distance"
   ]
  },
  {
   "cell_type": "code",
   "execution_count": 9,
   "metadata": {},
   "outputs": [],
   "source": [
    "def RangeQuery(data, Q, eps):\n",
    "    neighbors = []\n",
    "    for p in range(0,data.shape[0]):\n",
    "        if Q == p: continue\n",
    "        lat1 = data.at[Q, 'Latitude']\n",
    "        lat2 = data.at[p, 'Latitude']\n",
    "        lon1 = data.at[Q, 'Longitude']\n",
    "        lon2 = data.at[p, 'Longitude']\n",
    "        dist = distFunc(lat1, lat2, lon1, lon2)\n",
    "        '''print('Q',Q)\n",
    "        print('p',p)\n",
    "        print(lat1,lat2,lon1,lon2,dist)\n",
    "        print(eps)'''\n",
    "        if dist <= eps:\n",
    "            neighbors += [p]\n",
    "    return neighbors"
   ]
  },
  {
   "cell_type": "code",
   "execution_count": 42,
   "metadata": {},
   "outputs": [],
   "source": [
    "def DBSCAN(data, eps, min_points):\n",
    "    c = 0\n",
    "    for p in range(0,data.shape[0]):\n",
    "        n = []\n",
    "        if data.at[p, 'label'] == None: continue\n",
    "        n += RangeQuery(data, p, eps)\n",
    "        if len(n) < min_points:\n",
    "            data.at[p, 'label'] = 'Noise'\n",
    "            continue\n",
    "        c += 1\n",
    "        data.at[p, 'label']= c\n",
    "        s = []\n",
    "        s = n.remove(p)\n",
    "        for q in s:\n",
    "            if data.at[q, 'label'] == 'Noise': data.at[q, 'label'] = c\n",
    "            if data.at[q, 'label'] == None: continue\n",
    "            data.at[q, 'label'] = c\n",
    "            n += RangeQuery(data, q, eps)\n",
    "            if len(n) >= min_points:\n",
    "                s += n\n",
    "                continue\n"
   ]
  },
  {
   "cell_type": "markdown",
   "metadata": {},
   "source": [
    "<h1>Problemas</h1>\n",
    "<ol>\n",
    "    <li>iterar no dataframe</li>\n",
    "    <li>alterar/verificar a label</li>\n",
    "    <li>remover elementos repetidos</li>\n",
    "</ol>"
   ]
  },
  {
   "cell_type": "code",
   "execution_count": 11,
   "metadata": {},
   "outputs": [
    {
     "data": {
      "text/html": [
       "<div>\n",
       "<style scoped>\n",
       "    .dataframe tbody tr th:only-of-type {\n",
       "        vertical-align: middle;\n",
       "    }\n",
       "\n",
       "    .dataframe tbody tr th {\n",
       "        vertical-align: top;\n",
       "    }\n",
       "\n",
       "    .dataframe thead th {\n",
       "        text-align: right;\n",
       "    }\n",
       "</style>\n",
       "<table border=\"1\" class=\"dataframe\">\n",
       "  <thead>\n",
       "    <tr style=\"text-align: right;\">\n",
       "      <th></th>\n",
       "      <th>Bairro</th>\n",
       "      <th>label</th>\n",
       "      <th>Latitude</th>\n",
       "      <th>Longitude</th>\n",
       "    </tr>\n",
       "  </thead>\n",
       "  <tbody>\n",
       "    <tr>\n",
       "      <th>0</th>\n",
       "      <td>Batista Campos</td>\n",
       "      <td>1</td>\n",
       "      <td>-1460744</td>\n",
       "      <td>-48490488</td>\n",
       "    </tr>\n",
       "    <tr>\n",
       "      <th>1</th>\n",
       "      <td>Cidade Velha</td>\n",
       "      <td>1</td>\n",
       "      <td>-1461183</td>\n",
       "      <td>-48504647</td>\n",
       "    </tr>\n",
       "    <tr>\n",
       "      <th>2</th>\n",
       "      <td>Jurunas</td>\n",
       "      <td>1</td>\n",
       "      <td>-1470104</td>\n",
       "      <td>-48.495129</td>\n",
       "    </tr>\n",
       "    <tr>\n",
       "      <th>3</th>\n",
       "      <td>Campina</td>\n",
       "      <td>2</td>\n",
       "      <td>-1452948</td>\n",
       "      <td>-48499645</td>\n",
       "    </tr>\n",
       "    <tr>\n",
       "      <th>4</th>\n",
       "      <td>Reduto</td>\n",
       "      <td>1</td>\n",
       "      <td>-1447956</td>\n",
       "      <td>-48492640</td>\n",
       "    </tr>\n",
       "  </tbody>\n",
       "</table>\n",
       "</div>"
      ],
      "text/plain": [
       "           Bairro label  Latitude    Longitude\n",
       "0  Batista Campos     1  -1460744    -48490488\n",
       "1    Cidade Velha     1  -1461183    -48504647\n",
       "2         Jurunas     1  -1470104   -48.495129\n",
       "3         Campina     2  -1452948    -48499645\n",
       "4          Reduto     1  -1447956    -48492640"
      ]
     },
     "execution_count": 11,
     "metadata": {},
     "output_type": "execute_result"
    }
   ],
   "source": [
    "shape = data.shape[0]\n",
    "for i in range(0,shape):\n",
    "    if data.at[i, 'label'] == None: continue\n",
    "    data.at[i, 'label'] = data.at[i, 'label'].replace('Noise','1')\n",
    "data "
   ]
  },
  {
   "cell_type": "code",
   "execution_count": 9,
   "metadata": {},
   "outputs": [],
   "source": [
    "data.at[3, 'label'] = data.at[3, 'label'].replace('Noise','2')"
   ]
  },
  {
   "cell_type": "code",
   "execution_count": 46,
   "metadata": {},
   "outputs": [
    {
     "name": "stdout",
     "output_type": "stream",
     "text": [
      "Result 14922.672449175263\n"
     ]
    }
   ],
   "source": [
    "lat1 = data.at[0, 'Latitude']\n",
    "lat2 = data.at[1, 'Latitude']\n",
    "lon1 = data.at[0, 'Longitude']\n",
    "lon2 = data.at[1, 'Longitude']\n",
    "distFunc(lat1,lat2,lon1,lon2)"
   ]
  },
  {
   "cell_type": "code",
   "execution_count": 40,
   "metadata": {},
   "outputs": [
    {
     "name": "stdout",
     "output_type": "stream",
     "text": [
      "[]\n",
      "[]\n",
      "[]\n",
      "[]\n",
      "[]\n"
     ]
    }
   ],
   "source": [
    "DBSCAN(data,0.2,2)"
   ]
  },
  {
   "cell_type": "code",
   "execution_count": 14,
   "metadata": {},
   "outputs": [
    {
     "name": "stdout",
     "output_type": "stream",
     "text": [
      "[0 2 0 1 1]\n"
     ]
    }
   ],
   "source": [
    "%matplotlib inline\n",
    "\n",
    "from sklearn.cluster import KMeans\n",
    "import matplotlib.pyplot as plt\n",
    "from sklearn.preprocessing import scale\n",
    "from numpy import random, float\n",
    "\n",
    "\n",
    "model = KMeans(n_clusters=3)\n",
    "\n",
    "# Note I'm scaling the data to normalize it! Important for good results.\n",
    "model = model.fit(scale(data))\n",
    "\n",
    "# We can look at the clusters each data point was assigned to\n",
    "print(model.labels_)\n"
   ]
  },
  {
   "cell_type": "code",
   "execution_count": 41,
   "metadata": {},
   "outputs": [
    {
     "data": {
      "text/html": [
       "<div>\n",
       "<style scoped>\n",
       "    .dataframe tbody tr th:only-of-type {\n",
       "        vertical-align: middle;\n",
       "    }\n",
       "\n",
       "    .dataframe tbody tr th {\n",
       "        vertical-align: top;\n",
       "    }\n",
       "\n",
       "    .dataframe thead th {\n",
       "        text-align: right;\n",
       "    }\n",
       "</style>\n",
       "<table border=\"1\" class=\"dataframe\">\n",
       "  <thead>\n",
       "    <tr style=\"text-align: right;\">\n",
       "      <th></th>\n",
       "      <th>label</th>\n",
       "      <th>Bairro</th>\n",
       "      <th>Latitude</th>\n",
       "      <th>Longitude</th>\n",
       "    </tr>\n",
       "  </thead>\n",
       "  <tbody>\n",
       "    <tr>\n",
       "      <th>0</th>\n",
       "      <td>Noise</td>\n",
       "      <td>Batista Campos</td>\n",
       "      <td>-1460744</td>\n",
       "      <td>-48490488</td>\n",
       "    </tr>\n",
       "    <tr>\n",
       "      <th>1</th>\n",
       "      <td>Noise</td>\n",
       "      <td>Cidade Velha</td>\n",
       "      <td>-1461183</td>\n",
       "      <td>-48504647</td>\n",
       "    </tr>\n",
       "    <tr>\n",
       "      <th>2</th>\n",
       "      <td>Noise</td>\n",
       "      <td>Jurunas</td>\n",
       "      <td>-1470104</td>\n",
       "      <td>-48495129</td>\n",
       "    </tr>\n",
       "    <tr>\n",
       "      <th>3</th>\n",
       "      <td>Noise</td>\n",
       "      <td>Campina</td>\n",
       "      <td>-1452948</td>\n",
       "      <td>-48499645</td>\n",
       "    </tr>\n",
       "    <tr>\n",
       "      <th>4</th>\n",
       "      <td>Noise</td>\n",
       "      <td>Reduto</td>\n",
       "      <td>-1447956</td>\n",
       "      <td>-48492640</td>\n",
       "    </tr>\n",
       "  </tbody>\n",
       "</table>\n",
       "</div>"
      ],
      "text/plain": [
       "   label          Bairro  Latitude   Longitude\n",
       "0  Noise  Batista Campos  -1460744   -48490488\n",
       "1  Noise    Cidade Velha  -1461183   -48504647\n",
       "2  Noise         Jurunas  -1470104   -48495129\n",
       "3  Noise         Campina  -1452948   -48499645\n",
       "4  Noise          Reduto  -1447956   -48492640"
      ]
     },
     "execution_count": 41,
     "metadata": {},
     "output_type": "execute_result"
    }
   ],
   "source": [
    "data"
   ]
  },
  {
   "cell_type": "code",
   "execution_count": null,
   "metadata": {},
   "outputs": [],
   "source": [
    "from sklearn.clusters import DBSCAN\n",
    "\n",
    "clustering = DBSCAN( min_samples=2).fit(X)\n",
    "clustering.labels_"
   ]
  }
 ],
 "metadata": {
  "kernelspec": {
   "display_name": "Python 3",
   "language": "python",
   "name": "python3"
  },
  "language_info": {
   "codemirror_mode": {
    "name": "ipython",
    "version": 3
   },
   "file_extension": ".py",
   "mimetype": "text/x-python",
   "name": "python",
   "nbconvert_exporter": "python",
   "pygments_lexer": "ipython3",
   "version": "3.8.3"
  }
 },
 "nbformat": 4,
 "nbformat_minor": 4
}
