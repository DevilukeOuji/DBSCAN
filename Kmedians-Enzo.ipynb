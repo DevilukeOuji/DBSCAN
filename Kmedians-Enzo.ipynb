{
 "cells": [
  {
   "cell_type": "markdown",
   "metadata": {},
   "source": [
    "<h1>K-Medians<h1>\n",
    "<h3>Escolher os centroides</h3>\n",
    "<h3>Agruparas amostras para o cluster</h3>\n",
    "<h3>Atualiza o valor dos centróides dos clusters</h3>"
   ]
  },
  {
   "cell_type": "code",
   "execution_count": 1,
   "metadata": {},
   "outputs": [],
   "source": [
    "import numpy as np\n",
    "import matplotlib.pyplot as plt\n",
    "from matplotlib import style\n",
    "import pandas as pd \n",
    "\n",
    "style.use('ggplot')"
   ]
  },
  {
   "cell_type": "code",
   "execution_count": 2,
   "metadata": {
    "scrolled": true
   },
   "outputs": [
    {
     "data": {
      "text/html": [
       "<div>\n",
       "<style scoped>\n",
       "    .dataframe tbody tr th:only-of-type {\n",
       "        vertical-align: middle;\n",
       "    }\n",
       "\n",
       "    .dataframe tbody tr th {\n",
       "        vertical-align: top;\n",
       "    }\n",
       "\n",
       "    .dataframe thead th {\n",
       "        text-align: right;\n",
       "    }\n",
       "</style>\n",
       "<table border=\"1\" class=\"dataframe\">\n",
       "  <thead>\n",
       "    <tr style=\"text-align: right;\">\n",
       "      <th></th>\n",
       "      <th>Bairro</th>\n",
       "      <th>Latitude</th>\n",
       "      <th>Longitude</th>\n",
       "    </tr>\n",
       "  </thead>\n",
       "  <tbody>\n",
       "    <tr>\n",
       "      <th>0</th>\n",
       "      <td>Marco</td>\n",
       "      <td>-1.433727</td>\n",
       "      <td>-48.461617</td>\n",
       "    </tr>\n",
       "    <tr>\n",
       "      <th>1</th>\n",
       "      <td>Cidade Velha</td>\n",
       "      <td>-1.459614</td>\n",
       "      <td>-48.505799</td>\n",
       "    </tr>\n",
       "    <tr>\n",
       "      <th>2</th>\n",
       "      <td>Batista Campos</td>\n",
       "      <td>-1.459672</td>\n",
       "      <td>-48.489818</td>\n",
       "    </tr>\n",
       "    <tr>\n",
       "      <th>3</th>\n",
       "      <td>Nazaré</td>\n",
       "      <td>-1.452286</td>\n",
       "      <td>-48.481252</td>\n",
       "    </tr>\n",
       "    <tr>\n",
       "      <th>4</th>\n",
       "      <td>Umarizal</td>\n",
       "      <td>-1.439096</td>\n",
       "      <td>-48.483710</td>\n",
       "    </tr>\n",
       "  </tbody>\n",
       "</table>\n",
       "</div>"
      ],
      "text/plain": [
       "           Bairro  Latitude  Longitude\n",
       "0           Marco -1.433727 -48.461617\n",
       "1    Cidade Velha -1.459614 -48.505799\n",
       "2  Batista Campos -1.459672 -48.489818\n",
       "3          Nazaré -1.452286 -48.481252\n",
       "4        Umarizal -1.439096 -48.483710"
      ]
     },
     "execution_count": 2,
     "metadata": {},
     "output_type": "execute_result"
    }
   ],
   "source": [
    "data = pd.read_csv('bairros.csv')\n",
    "data.head()"
   ]
  },
  {
   "cell_type": "code",
   "execution_count": 36,
   "metadata": {},
   "outputs": [],
   "source": [
    "def lat_lon(i):\n",
    "    lat = data.loc[i, 'Latitude']\n",
    "    lon = data.loc[i, 'Longitude']\n",
    "    return lat, lon"
   ]
  },
  {
   "cell_type": "code",
   "execution_count": 37,
   "metadata": {},
   "outputs": [],
   "source": [
    "centroids = {0: lat_lon(13)}\n",
    "k = 4\n",
    "shape = data.shape[0]"
   ]
  },
  {
   "cell_type": "code",
   "execution_count": 38,
   "metadata": {},
   "outputs": [],
   "source": [
    "#distancia euclidiana\n",
    "def eucDistance(xa,xb,ya,yb):\n",
    "    dist = np.sqrt((float(xa)-float(xb))**2 + (float(ya)-float(yb))**2)\n",
    "    return dist"
   ]
  },
  {
   "cell_type": "code",
   "execution_count": 57,
   "metadata": {},
   "outputs": [
    {
     "name": "stdout",
     "output_type": "stream",
     "text": [
      "{0: (-1.3950055417506055, -48.47191222722505), 1: (-1.4531646344508171, -48.463395858386036), 2: (-1.4586479816143287, -48.48981764464487), 3: (-1.4114035009132684, -48.48294524073052)}\n"
     ]
    }
   ],
   "source": [
    "# Inicializa e distingue os centroides entre si\n",
    "# 13 equivale ao bairro de Val-de-Caes\n",
    "while len(centroids) < 4:\n",
    "    amostra = int(np.random.randint(shape))\n",
    "    if amostra == 13: continue\n",
    "    centroids[len(centroids)] = lat_lon(amostra)\n",
    "print(centroids)"
   ]
  },
  {
   "cell_type": "code",
   "execution_count": 58,
   "metadata": {},
   "outputs": [
    {
     "name": "stdout",
     "output_type": "stream",
     "text": [
      "{0: (-1.3950055417506055, -48.47191222722505), 1: (-1.4531646344508171, -48.463395858386036), 2: (-1.4586479816143287, -48.48981764464487), 3: (-1.4114035009132684, -48.48294524073052)}\n",
      "{0: [0, 1, 2, 3, 4, 5, 6, 7, 8, 9, 9, 9, 9, 10, 11, 11, 11, 11, 12, 12, 12, 12, 13, 13, 13, 13, 14, 14, 14, 14, 15, 15, 15, 15, 16, 17, 17, 17, 17, 18, 18, 18, 18, 19, 20, 21, 22, 23, 24, 24, 24, 24, 25, 25, 25, 25, 26, 26, 26, 26, 27, 27, 27, 27, 28, 28, 28, 28, 29, 29, 29, 29, 30, 30, 30, 30, 31, 31, 31, 31, 32, 32, 32, 33, 33, 33, 34, 34, 34, 34, 35, 35, 35, 36, 37, 37, 37, 38, 38, 38], 1: [0, 0, 0, 1, 2, 3, 4, 5, 5, 5, 6, 7, 8, 8, 8, 10, 10, 10, 16, 16, 16, 19, 20, 21, 22, 22, 22, 23, 23, 23, 36, 36, 36], 2: [1, 1, 2, 2, 3, 3, 4, 4, 6, 6, 7, 7, 19, 19, 20, 20, 21, 21], 3: [32, 33, 35, 37, 38]}\n"
     ]
    }
   ],
   "source": [
    "# Dicionario que guarda as classes geradas\n",
    "# Cada chave ́e o valor da classe, 0-3 (4 centroides)\n",
    "# Cada valor ́e uma lista com seus pontos associados\n",
    "for j in range(500):   \n",
    "    classes = {i: [] for i in range(k)}\n",
    "    # Percorre cada amostra\n",
    "    for amostra in range(shape):\n",
    "        distancias = []\n",
    "        for _, lat_lon_centroid in centroids.items():\n",
    "            lat_centroid, lon_centroid = lat_lon_centroid\n",
    "            lat_amostra, lon_amostra = lat_lon(amostra)\n",
    "            distancias.append(eucDistance(lat_amostra,lat_centroid, lon_amostra, lon_centroid))\n",
    "            centroid = distancias.index(min(distancias))\n",
    "            classes[centroid].append(amostra)\n",
    "    # Atualiza os centroides\n",
    "    for classe in classes:\n",
    "        if classe == 0: continue\n",
    "        lats, lons = lat_lon(classes[classe])\n",
    "        lat = np.median(lats)\n",
    "        lon = np.median(lons)\n",
    "        centroids[classe] = (lat, lon)\n",
    "print(centroids)    \n",
    "print(classes)"
   ]
  },
  {
   "cell_type": "code",
   "execution_count": 59,
   "metadata": {},
   "outputs": [
    {
     "name": "stdout",
     "output_type": "stream",
     "text": [
      "7.85764541184515\n"
     ]
    }
   ],
   "source": [
    "# Guarda a distância total\n",
    "total_dist = 0\n",
    "for _, lat_lon_centroid in centroids.items():\n",
    "    lat_centroid, lon_centroid = lat_lon_centroid\n",
    "    for amostra in range(shape):\n",
    "        lat_amostra, lon_amostra = lat_lon(amostra)\n",
    "        total_dist += eucDistance(lat_amostra,lat_centroid, lon_amostra, lon_centroid)\n",
    "print(total_dist)"
   ]
  },
  {
   "cell_type": "code",
   "execution_count": 60,
   "metadata": {},
   "outputs": [
    {
     "data": {
      "image/png": "[encoded data removed]",
      "text/plain": [
       "<Figure size 432x288 with 1 Axes>"
      ]
     },
     "metadata": {},
     "output_type": "display_data"
    }
   ],
   "source": [
    "colors=['orange', 'blue', 'green','brown']\n",
    "for i in range(shape):    \n",
    "    for classe in classes:\n",
    "        if i in classes[classe]: plt.scatter(data.at[i,'Latitude'], data.at[i,'Longitude'],s=150, c = colors[classe])\n",
    "for i in range(len(centroids)):\n",
    "    plt.scatter(centroids[i][0], centroids[i][1], marker='*', c='r', s=250)"
   ]
  }
 ],
 "metadata": {
  "kernelspec": {
   "display_name": "Python 3",
   "language": "python",
   "name": "python3"
  },
  "language_info": {
   "codemirror_mode": {
    "name": "ipython",
    "version": 3
   },
   "file_extension": ".py",
   "mimetype": "text/x-python",
   "name": "python",
   "nbconvert_exporter": "python",
   "pygments_lexer": "ipython3",
   "version": "3.8.5"
  }
 },
 "nbformat": 4,
 "nbformat_minor": 4
}
