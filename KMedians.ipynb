{
 "cells": [
  {
   "cell_type": "markdown",
   "metadata": {},
   "source": [
    "<h1>K-Medians<h1>\n",
    "<h3>Escolher os centroides</h3>\n",
    "<h3>Agrupar as amostras para o cluster</h3>\n",
    "<h3>Atualiza o valor dos centróides dos clusters</h3>"
   ]
  },
  {
   "cell_type": "code",
   "execution_count": 2,
   "metadata": {},
   "outputs": [],
   "source": [
    "import numpy as np\n",
    "import matplotlib.pyplot as plt\n",
    "from matplotlib import style\n",
    "import pandas as pd \n",
    "\n",
    "style.use('ggplot')"
   ]
  },
  {
   "cell_type": "code",
   "execution_count": 3,
   "metadata": {},
   "outputs": [
    {
     "name": "stdout",
     "output_type": "stream",
     "text": [
      "13\n"
     ]
    }
   ],
   "source": [
    "data = pd.read_csv('bairros.csv')\n",
    "for i in range(data.shape[0]):\n",
    "    a = data.at[i,'Bairro']\n",
    "    if a == 'Val-de-Cães': print(i)"
   ]
  },
  {
   "cell_type": "code",
   "execution_count": 4,
   "metadata": {},
   "outputs": [],
   "source": [
    "centroids = {0:13}\n",
    "k = 4\n",
    "shape = data.shape[0]"
   ]
  },
  {
   "cell_type": "code",
   "execution_count": 5,
   "metadata": {},
   "outputs": [],
   "source": [
    "#distancia euclidiana\n",
    "def eucDistance(xa,xb,ya,yb):\n",
    "    dist = np.sqrt((float(xa)-float(xb))**2 + (float(ya)-float(yb))**2)\n",
    "    return dist"
   ]
  },
  {
   "cell_type": "code",
   "execution_count": 6,
   "metadata": {},
   "outputs": [],
   "source": [
    "def lat_lon(i):\n",
    "    lat = data.at[i,'Latitude']\n",
    "    lon = data.at[i,'Latitude']\n",
    "    return lat,lon"
   ]
  },
  {
   "cell_type": "code",
   "execution_count": 10,
   "metadata": {},
   "outputs": [],
   "source": [
    "#calcula a distância total\n",
    "def distTotal():\n",
    "    total_dist = 0\n",
    "    for centroid in centroids:\n",
    "        centr = centroids[centroid]\n",
    "        for sample in range(shape):\n",
    "            lat_sample,lon_sample = lat_lon(sample)\n",
    "            lat_centroid,lon_centroid = lat_lon(centr)\n",
    "            total_dist += eucDistance(lat_sample, lat_centroid, lon_sample, lon_centroid)\n",
    "    print(total_dist)"
   ]
  },
  {
   "cell_type": "code",
   "execution_count": 13,
   "metadata": {},
   "outputs": [
    {
     "name": "stdout",
     "output_type": "stream",
     "text": [
      "{0: 13, 1: 9, 2: 37, 3: 0}\n",
      "{0: 13, 1: 7, 2: 19, 3: 36}\n",
      "{0: [9, 12, 13, 14, 15, 17, 18, 32, 34, 35, 37, 38], 1: [0, 3, 4, 5, 6, 7, 8, 10, 22, 33], 2: [1, 2, 16, 19, 20, 21, 23], 3: [11, 24, 25, 26, 27, 28, 29, 30, 31, 36]}\n",
      "[13, 7, 19, 36]\n",
      "8.77348591442054\n"
     ]
    }
   ],
   "source": [
    "#inicializa os centroides\n",
    "centroides = [13]\n",
    "for i in range(1,k):\n",
    "    randn = np.random.randint(shape)\n",
    "    centroids[i] = int(randn)\n",
    "    centroides += [int(randn)]\n",
    "\n",
    "#os centroides devem ser distintos\n",
    "for i in range(k):\n",
    "    for j in range(k):\n",
    "        if i == j: continue\n",
    "        elif j == 0 : continue\n",
    "        if centroids[i] == centroids[j]:\n",
    "            randn = np.random.randint(shape)\n",
    "            centroids[j] = int(randn)\n",
    "    \n",
    "print(centroids)\n",
    "        \n",
    "#K medoids\n",
    "for j in range(500):\n",
    "    classes = {}\n",
    "    for i in range(k): classes[i] = []\n",
    "    for amostra in range(0,shape): #percorre as amostras\n",
    "        distancias = []\n",
    "        for centroid in centroids:\n",
    "            centr = centroids[centroid]\n",
    "            lat_amostra,lon_amostra = lat_lon(amostra)\n",
    "            lat_centroid,lon_centroid = lat_lon(centr)\n",
    "            distancias += [eucDistance(lat_amostra, lat_centroid, lon_amostra, lon_centroid)]\n",
    "        centroid = distancias.index(min(distancias))\n",
    "        classes[centroid].append(amostra)\n",
    "    for classe in classes: #atualiza os centroides\n",
    "        if classe == 0: continue\n",
    "        mediana = np.around(np.median(classes[classe], axis = 0))\n",
    "        while mediana in centroides: mediana = np.random.randint(shape)\n",
    "        centroides[classe] = int(mediana)\n",
    "        centroids[classe] = int(mediana)\n",
    "\n",
    "#os centroides devem ser distintos\n",
    "for classe in classes:\n",
    "    for centroid in centroids:\n",
    "        centr = centroids[centroid]\n",
    "        if centr in classes[classe] and classe != centroid:\n",
    "            classes[classe].remove(centr)\n",
    "            classes[centroid].append(centr)\n",
    "        \n",
    "print(centroids)\n",
    "print(classes)\n",
    "print(centroides)\n",
    "distTotal()"
   ]
  },
  {
   "cell_type": "code",
   "execution_count": 14,
   "metadata": {
    "scrolled": false
   },
   "outputs": [
    {
     "data": {
      "image/png": "[encoded data removed]",
      "text/plain": [
       "<Figure size 432x288 with 1 Axes>"
      ]
     },
     "metadata": {},
     "output_type": "display_data"
    }
   ],
   "source": [
    "colors=['orange', 'blue', 'green','brown']\n",
    "for i in range(shape):    \n",
    "    for classe in classes:\n",
    "        if i in classes[classe]: plt.scatter(data.at[i,'Latitude'], data.at[i,'Longitude'],s=150, c = colors[classe])\n",
    "for i in range(len(centroids)):\n",
    "    plt.scatter(data.at[centroids[i],'Latitude'], data.at[centroids[i],'Longitude'], marker='*', c='r', s=250)"
   ]
  }
 ],
 "metadata": {
  "kernelspec": {
   "display_name": "Python 3",
   "language": "python",
   "name": "python3"
  },
  "language_info": {
   "codemirror_mode": {
    "name": "ipython",
    "version": 3
   },
   "file_extension": ".py",
   "mimetype": "text/x-python",
   "name": "python",
   "nbconvert_exporter": "python",
   "pygments_lexer": "ipython3",
   "version": "3.8.5"
  }
 },
 "nbformat": 4,
 "nbformat_minor": 1
}
